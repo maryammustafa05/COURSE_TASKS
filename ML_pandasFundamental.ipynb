{
 "cells": [
  {
   "cell_type": "code",
   "execution_count": 24,
   "id": "37a6a18e",
   "metadata": {},
   "outputs": [
    {
     "name": "stdout",
     "output_type": "stream",
     "text": [
      "The python score's mean are: 81.0\n"
     ]
    }
   ],
   "source": [
    "import pandas as pd\n",
    "\n",
    "python_scores=[85,78,92,None,69]\n",
    "series=pd.Series(python_scores)\n",
    "series\n",
    "\n",
    "me=series.mean()\n",
    "print(f\"The python score's mean are: {me}\")\n",
    "\n",
    "df=pd.read_csv(\"project_scores.csv\")\n",
    "df\n",
    "\n",
    "df.head(3)\n",
    "\n",
    "col=df[[\"Name\",\"ML_Score\"]]\n",
    "col\n",
    "\n",
    "df.fillna(0,inplace=True)\n",
    "df\n",
    "\n",
    "df[\"Total_score\"]=df[\"AI_Score\"]+df[\"ML_Score\"]+df[\"Python_Score\"]\n",
    "df\n",
    "\n",
    "df[\"Result\"]=[\"pass\" if score>=240 else \"fail\" for score in df[\"Total_score\"]]\n",
    "df\n",
    "\n",
    "students=(df[\"Department\"]==\"CS\") & (df[\"Result\"]==\"pass\")\n",
    "df.loc[students]\n",
    "\n",
    "df.sort_values(by=\"Total_score\",ascending=False,inplace=True)\n",
    "df\n",
    "\n",
    "df.to_csv(\"final_results.csv\",index=False)"
   ]
  }
 ],
 "metadata": {
  "kernelspec": {
   "display_name": "Python 3",
   "language": "python",
   "name": "python3"
  },
  "language_info": {
   "codemirror_mode": {
    "name": "ipython",
    "version": 3
   },
   "file_extension": ".py",
   "mimetype": "text/x-python",
   "name": "python",
   "nbconvert_exporter": "python",
   "pygments_lexer": "ipython3",
   "version": "3.13.5"
  }
 },
 "nbformat": 4,
 "nbformat_minor": 5
}
